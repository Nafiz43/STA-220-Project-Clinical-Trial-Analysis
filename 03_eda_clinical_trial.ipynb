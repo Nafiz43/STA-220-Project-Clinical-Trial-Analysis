{
 "cells": [
  {
   "cell_type": "code",
   "execution_count": null,
   "metadata": {},
   "outputs": [
    {
     "name": "stdout",
     "output_type": "stream",
     "text": [
      "Overall Status\n",
      "COMPLETED                33\n",
      "UNKNOWN                  13\n",
      "RECRUITING                3\n",
      "ACTIVE_NOT_RECRUITING     2\n",
      "TERMINATED                2\n",
      "NOT_YET_RECRUITING        2\n",
      "Name: count, dtype: int64\n"
     ]
    }
   ],
   "source": [
    "import pandas as pd\n",
    "\n",
    "chagas_data =  pd.read_csv('data/chagas_disease_procesed.csv')\n",
    "\n",
    "tubercolosis_data = pd.read_csv('data/drug_resistant_tuberculosis_procesed.csv')\n",
    "\n",
    "dystrophy_data = pd.read_csv('data/drug_resistant_tuberculosis_procesed.csv')\n",
    "\n",
    "\n",
    "\n",
    "df = pd.DataFrame(data)\n",
    "\n",
    "# Count unique values in a specific column\n",
    "unique_counts = df['Overall Status'].value_counts()\n",
    "\n",
    "# Print result\n",
    "print(unique_counts)"
   ]
  },
  {
   "cell_type": "code",
   "execution_count": null,
   "metadata": {},
   "outputs": [
    {
     "name": "stdout",
     "output_type": "stream",
     "text": [
      "Category\n",
      "A    3\n",
      "B    2\n",
      "C    2\n",
      "D    1\n",
      "Name: count, dtype: int64\n"
     ]
    }
   ],
   "source": [
    "\n",
    "\n"
   ]
  },
  {
   "cell_type": "code",
   "execution_count": null,
   "metadata": {},
   "outputs": [],
   "source": []
  }
 ],
 "metadata": {
  "kernelspec": {
   "display_name": "base",
   "language": "python",
   "name": "python3"
  },
  "language_info": {
   "codemirror_mode": {
    "name": "ipython",
    "version": 3
   },
   "file_extension": ".py",
   "mimetype": "text/x-python",
   "name": "python",
   "nbconvert_exporter": "python",
   "pygments_lexer": "ipython3",
   "version": "3.12.8"
  }
 },
 "nbformat": 4,
 "nbformat_minor": 2
}
