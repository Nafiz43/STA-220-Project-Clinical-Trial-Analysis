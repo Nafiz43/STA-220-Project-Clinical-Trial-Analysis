{
 "cells": [
  {
   "cell_type": "code",
   "execution_count": 19,
   "metadata": {},
   "outputs": [
    {
     "name": "stdout",
     "output_type": "stream",
     "text": [
      "\n",
      "PubMed Clinical Trials Articles:\n",
      "  pubmed_id                                              title  \\\n",
      "0  40065476  Caregivers and multidisciplinary team members'...   \n",
      "1  40034011  A historical perspective on the development of...   \n",
      "2  40017558                                    Association of    \n",
      "3  39973450  Optimizing DMD management in Asia: Current cha...   \n",
      "4  39973412  Digital outcome measures in Duchene muscular d...   \n",
      "\n",
      "                                            keywords  \\\n",
      "0  Duchenne muscular dystrophy, Informational nee...   \n",
      "1  RNA therapy, exon skipping, muscle, splice mod...   \n",
      "2                                               None   \n",
      "3  Asia, DMD, Duchenne muscular dystrophy, gene t...   \n",
      "4  Duchenne muscular dystrophy, clinical trials, ...   \n",
      "\n",
      "                             journal  \\\n",
      "0  Orphanet journal of rare diseases   \n",
      "1  Journal of neuromuscular diseases   \n",
      "2                Neurology. Genetics   \n",
      "3  Journal of neuromuscular diseases   \n",
      "4  Journal of neuromuscular diseases   \n",
      "\n",
      "                                            abstract methods  \\\n",
      "0  As new therapies for Duchenne muscular dystrop...    None   \n",
      "1  Splice modulating antisense oligonucleotides (...    None   \n",
      "2  Duchenne muscular dystrophy (DMD) is caused by...    None   \n",
      "3  Since 1970, advances in Duchenne muscular dyst...    None   \n",
      "4  Duchenne muscular dystrophy is a severe neurom...    None   \n",
      "\n",
      "                                             results  \\\n",
      "0  Most caregivers were unfamiliar with the term ...   \n",
      "1                                               None   \n",
      "2  Participants with variants in ex63 and downstr...   \n",
      "3  Genetic profiling has become the pivotal diagn...   \n",
      "4                                               None   \n",
      "\n",
      "                                         conclusions  \\\n",
      "0  This study identified an increased need for ea...   \n",
      "1                                               None   \n",
      "2                                               None   \n",
      "3                                               None   \n",
      "4                                               None   \n",
      "\n",
      "                                          copyrights  \\\n",
      "0                             © 2025. The Author(s).   \n",
      "1                                               None   \n",
      "2  Copyright © 2025 The Author(s). Published by W...   \n",
      "3                                               None   \n",
      "4                                               None   \n",
      "\n",
      "                                                 doi publication_date  \\\n",
      "0                         10.1186/s13023-025-03555-0       2025-03-11   \n",
      "1                          10.1177/22143602251317422       2025-03-04   \n",
      "2  10.1212/NXG.0000000000200251\\n10.1001/jamaneur...       2025-02-28   \n",
      "3                          10.1177/22143602241297846       2025-02-20   \n",
      "4                          10.1177/22143602241296280       2025-02-20   \n",
      "\n",
      "                                             authors  \n",
      "0  {'lastname': 'Schoefs', 'firstname': 'Elise', ...  \n",
      "1  {'lastname': 'Aartsma-Rus', 'firstname': 'Anne...  \n",
      "2  {'lastname': 'Fang', 'firstname': 'Yuan', 'ini...  \n",
      "3  {'lastname': 'Weng', 'firstname': 'Wen-Chin', ...  \n",
      "4  {'lastname': 'González Barral', 'firstname': '...  \n"
     ]
    }
   ],
   "source": [
    "from pymed import PubMed\n",
    "import pandas as pd\n",
    "\n",
    "email = 'xxxxxxxx@gmail.com'\n",
    "pubmed = PubMed(tool=\"PubMedSearcher\", email=email)\n",
    "\n",
    "\n",
    "search_term = \"Duchenne Muscular Dystrophy + Clinical Trials\"\n",
    "results = pubmed.query(search_term, max_results=10000)\n",
    "\n",
    "articles_data = []\n",
    "\n",
    "for article in results:\n",
    "    article_dict = article.toDict()\n",
    "    raw_authors = article_dict.get(\"authors\", [])\n",
    "    authors = \", \".join([a[\"name\"] if isinstance(a, dict) and \"name\" in a else str(a) for a in raw_authors]) if raw_authors else None\n",
    "\n",
    "    articles_data.append({\n",
    "        \"pubmed_id\": article_dict.get(\"pubmed_id\", \"\").partition('\\n')[0],\n",
    "        \"title\": article_dict.get(\"title\", None),\n",
    "        \"keywords\": \", \".join(article_dict.get(\"keywords\", [])) if article_dict.get(\"keywords\") else None,\n",
    "        \"journal\": article_dict.get(\"journal\", None),\n",
    "        \"abstract\": article_dict.get(\"abstract\", None),\n",
    "        \"methods\": article_dict.get(\"methods\", None),\n",
    "        \"results\": article_dict.get(\"results\", None),\n",
    "        \"conclusions\": article_dict.get(\"conclusions\", None),\n",
    "        \"copyrights\": article_dict.get(\"copyrights\", None),\n",
    "        \"doi\": article_dict.get(\"doi\", None),\n",
    "        \"publication_date\": article_dict.get(\"publication_date\", None),\n",
    "        \"authors\": authors\n",
    "    })\n",
    "\n",
    "df_articles = pd.DataFrame(articles_data)\n",
    "print(\"\\nPubMed Clinical Trials Articles:\")\n",
    "print(df_articles.head()) \n",
    "df_articles.to_csv(\"Duchenne_Muscular_Dystrophy.csv\", index=False)"
   ]
  },
  {
   "cell_type": "code",
   "execution_count": null,
   "metadata": {},
   "outputs": [
    {
     "data": {
      "text/plain": [
       "1423"
      ]
     },
     "execution_count": 20,
     "metadata": {},
     "output_type": "execute_result"
    }
   ],
   "source": [
    "len(df_articles)"
   ]
  },
  {
   "cell_type": "code",
   "execution_count": null,
   "metadata": {},
   "outputs": [],
   "source": []
  }
 ],
 "metadata": {
  "kernelspec": {
   "display_name": "base",
   "language": "python",
   "name": "python3"
  },
  "language_info": {
   "codemirror_mode": {
    "name": "ipython",
    "version": 3
   },
   "file_extension": ".py",
   "mimetype": "text/x-python",
   "name": "python",
   "nbconvert_exporter": "python",
   "pygments_lexer": "ipython3",
   "version": "3.11.5"
  }
 },
 "nbformat": 4,
 "nbformat_minor": 2
}
