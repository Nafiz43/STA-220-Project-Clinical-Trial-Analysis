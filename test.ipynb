{
 "cells": [
  {
   "cell_type": "code",
   "execution_count": null,
   "metadata": {},
   "outputs": [],
   "source": [
    "# THE FOLLOWING IS JUST FOR \n",
    "# import pandas as pd\n",
    "# import random\n",
    "\n",
    "# # List of disease categories\n",
    "# diseases = [\n",
    "#     \"pancreatic cancer\",\n",
    "#     \"chagas disease\",\n",
    "#     \"endometriosis\",\n",
    "#     \"drug resistant tuberculosis\",\n",
    "#     \"duchenne muscular dystrophy\"\n",
    "# ]\n",
    "\n",
    "# # Assign a random category from diseases list to each row\n",
    "# pubmed['category'] = pubmed.apply(lambda x: random.choice(diseases), axis=1)\n",
    "\n",
    "# # Display the updated dataframe\n",
    "# print(pubmed)\n"
   ]
  },
  {
   "cell_type": "code",
   "execution_count": null,
   "metadata": {},
   "outputs": [
    {
     "name": "stdout",
     "output_type": "stream",
     "text": [
      "Compressed: endometriosis_clinical_trials.json\n",
      "Compressed: CT_influenza.json\n",
      "Compressed: CT_hepatitis.json\n",
      "Compressed: linked_pubmed_nct_ids.json\n",
      "Compressed: duchenne_muscular_dystrophy_clinical_trials.json\n",
      "Compressed: CT_duchenne muscular dystrophy.json\n",
      "Compressed: CT_chagas disease.json\n",
      "Compressed: CT_endometriosis.json\n",
      "Compressed: CT_malaria.json\n",
      "Compressed: pancreatic_cancer_clinical_trials.json\n",
      "Compressed: CT_alzheimer's.json\n",
      "Compressed: CT_drug resistant tuberculosis.json\n",
      "Compressed: CT_pancreatic cancer.json\n"
     ]
    }
   ],
   "source": [
    "import os\n",
    "import json\n",
    "\n",
    "def compress_json_files(directory):\n",
    "    for filename in os.listdir(directory):\n",
    "        if filename.endswith(\".json\"):\n",
    "            file_path = os.path.join(directory, filename)\n",
    "            try:\n",
    "                with open(file_path, \"r\", encoding=\"utf-8\") as file:\n",
    "                    data = json.load(file)\n",
    "                \n",
    "                with open(file_path, \"w\", encoding=\"utf-8\") as file:\n",
    "                    json.dump(data, file, separators=(\",\", \":\"))  # Minify JSON\n",
    "                \n",
    "                print({filename})\n",
    "            except Exception as e:\n",
    "                print(f\"Error processing {filename}: {e}\")\n",
    "\n",
    "# Usage\n",
    "directory = \"data/\"  # Change this to your target directory\n",
    "compress_json_files(directory)"
   ]
  },
  {
   "cell_type": "code",
   "execution_count": 2,
   "metadata": {},
   "outputs": [
    {
     "name": "stdout",
     "output_type": "stream",
     "text": [
      "112\n",
      "Extracted 5000 entries saved to data/CT_breast-cancer.json\n"
     ]
    }
   ],
   "source": [
    "import json\n",
    "\n",
    "def extract_5000_entries(input_file, output_file):\n",
    "    with open(input_file, 'r', encoding='utf-8') as f:\n",
    "        data = json.load(f)  # Load the JSON data\n",
    "    \n",
    "    if isinstance(data, list):\n",
    "        extracted_data = data[:5000]  # Extract first 5000 entries\n",
    "    else:\n",
    "        raise ValueError(\"JSON file must contain a list at the root level.\")\n",
    "    \n",
    "    with open(output_file, 'w', encoding='utf-8') as f:\n",
    "        json.dump(extracted_data, f, indent=4)  # Save extracted entries\n",
    "    \n",
    "    print(len(extracted_data))\n",
    "    \n",
    "    print(f\"Extracted 5000 entries saved to {output_file}\")\n",
    "\n",
    "# Usage\n",
    "extract_5000_entries('data/CT_breast-cancer.json', 'data/CT_breast-cancer.json')\n"
   ]
  },
  {
   "cell_type": "code",
   "execution_count": null,
   "metadata": {},
   "outputs": [],
   "source": []
  }
 ],
 "metadata": {
  "kernelspec": {
   "display_name": "Python 3",
   "language": "python",
   "name": "python3"
  },
  "language_info": {
   "codemirror_mode": {
    "name": "ipython",
    "version": 3
   },
   "file_extension": ".py",
   "mimetype": "text/x-python",
   "name": "python",
   "nbconvert_exporter": "python",
   "pygments_lexer": "ipython3",
   "version": "3.10.12"
  }
 },
 "nbformat": 4,
 "nbformat_minor": 2
}
