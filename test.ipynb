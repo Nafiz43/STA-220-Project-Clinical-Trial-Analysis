{
 "cells": [
  {
   "cell_type": "code",
   "execution_count": null,
   "metadata": {
    "vscode": {
     "languageId": "plaintext"
    }
   },
   "outputs": [],
   "source": [
    "THE FOLLOWING IS JUST FOR \n",
    "import pandas as pd\n",
    "import random\n",
    "\n",
    "# List of disease categories\n",
    "diseases = [\n",
    "    \"pancreatic cancer\",\n",
    "    \"chagas disease\",\n",
    "    \"endometriosis\",\n",
    "    \"drug resistant tuberculosis\",\n",
    "    \"duchenne muscular dystrophy\"\n",
    "]\n",
    "\n",
    "# Assign a random category from diseases list to each row\n",
    "pubmed['category'] = pubmed.apply(lambda x: random.choice(diseases), axis=1)\n",
    "\n",
    "# Display the updated dataframe\n",
    "print(pubmed)\n"
   ]
  }
 ],
 "metadata": {
  "language_info": {
   "name": "python"
  }
 },
 "nbformat": 4,
 "nbformat_minor": 2
}
