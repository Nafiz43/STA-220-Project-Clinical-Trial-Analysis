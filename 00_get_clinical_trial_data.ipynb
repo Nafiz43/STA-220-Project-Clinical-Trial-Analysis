{
 "cells": [
  {
   "cell_type": "code",
   "execution_count": 37,
   "metadata": {},
   "outputs": [
    {
     "name": "stdout",
     "output_type": "stream",
     "text": [
      "Fetching data from: https://clinicaltrials.gov/api/v2/studies?query.titles=duchenne muscular dystrophy&pageSize=100\n",
      "1\n",
      "Fetching data from: https://clinicaltrials.gov/api/v2/studies?query.titles=duchenne muscular dystrophy&pageSize=100&pageToken=NF0g5JqBl_kgwA\n",
      "2\n",
      "Fetching data from: https://clinicaltrials.gov/api/v2/studies?query.titles=duchenne muscular dystrophy&pageSize=100&pageToken=NF0g5JKOlfgoyQQ\n",
      "3\n",
      "Fetching data from: https://clinicaltrials.gov/api/v2/studies?query.titles=duchenne muscular dystrophy&pageSize=100&pageToken=NF0g5JGOlPYvwgI\n"
     ]
    }
   ],
   "source": [
    "import requests\n",
    "import pandas as pd\n",
    "import json\n",
    "import time\n",
    "\n",
    "diseases = [\n",
    "    \"pancreatic cancer\",\n",
    "    \"chagas disease\",\n",
    "    \"endometriosis\",\n",
    "    \"drug resistant tuberculosis\",\n",
    "    \"duchenne muscular dystrophy\"\n",
    "]\n",
    "\n",
    "\n",
    "disease_to_consider = diseases[4]\n",
    "\n",
    "# Initial URL for the first API call\n",
    "base_url = \"https://clinicaltrials.gov/api/v2/studies\"\n",
    "params = {\n",
    "    \"query.titles\": disease_to_consider,\n",
    "    \"pageSize\": 100\n",
    "}\n",
    "\n",
    "# Initialize an empty list to store the data\n",
    "data_list = []\n",
    "all_data = []\n",
    "\n",
    "\n",
    "# Loop until there is no nextPageToken\n",
    "x=1\n",
    "while True:\n",
    "    x = x+1\n",
    "    # Print the current URL (for debugging purposes)\n",
    "    print(\"Fetching data from:\", base_url + '?' + '&'.join([f\"{k}={v}\" for k, v in params.items()]))\n",
    "\n",
    "    # Send a GET request to the API\n",
    "    response = requests.get(base_url, params=params)\n",
    "\n",
    "\n",
    "    # Check if the request was successful\n",
    "    if response.status_code == 200:\n",
    "        data = response.json()  # Parse JSON response\n",
    "        studies = data.get('studies', [])  # Extract the list of studies\n",
    "        all_data.append(studies)\n",
    "        # print(data)        \n",
    "\n",
    "        # Check for nextPageToken and update the params or break the loop\n",
    "        nextPageToken = data.get('nextPageToken')\n",
    "        if nextPageToken:\n",
    "            params['pageToken'] = nextPageToken  # Set the pageToken for the next request\n",
    "        else:\n",
    "            break  # Exit the loop if no nextPageToken is present\n",
    "    else:\n",
    "        print(\"Failed to fetch data. Status code:\", response.status_code)\n",
    "        break\n",
    "    print(len(all_data))\n",
    "\n",
    "    time.sleep(3)\n",
    "\n",
    "with open(\"data/\"+disease_to_consider+\".json\", \"w\") as json_file:\n",
    "    json.dump(all_data, json_file, indent=4)"
   ]
  },
  {
   "cell_type": "markdown",
   "metadata": {},
   "source": []
  },
  {
   "cell_type": "code",
   "execution_count": null,
   "metadata": {},
   "outputs": [],
   "source": []
  },
  {
   "cell_type": "code",
   "execution_count": null,
   "metadata": {},
   "outputs": [
    {
     "ename": "FileNotFoundError",
     "evalue": "[Errno 2] No such file or directory: 'duchenne muscular dystrophy.json'",
     "output_type": "error",
     "traceback": [
      "\u001b[0;31m---------------------------------------------------------------------------\u001b[0m",
      "\u001b[0;31mFileNotFoundError\u001b[0m                         Traceback (most recent call last)",
      "Cell \u001b[0;32mIn[29], line 3\u001b[0m\n\u001b[1;32m      1\u001b[0m \u001b[38;5;28;01mimport\u001b[39;00m\u001b[38;5;250m \u001b[39m\u001b[38;5;21;01mjson\u001b[39;00m\n\u001b[0;32m----> 3\u001b[0m \u001b[38;5;28;01mwith\u001b[39;00m \u001b[38;5;28mopen\u001b[39m(\u001b[38;5;124m'\u001b[39m\u001b[38;5;124mduchenne muscular dystrophy.json\u001b[39m\u001b[38;5;124m'\u001b[39m, \u001b[38;5;124m'\u001b[39m\u001b[38;5;124mr\u001b[39m\u001b[38;5;124m'\u001b[39m, encoding\u001b[38;5;241m=\u001b[39m\u001b[38;5;124m'\u001b[39m\u001b[38;5;124mutf-8\u001b[39m\u001b[38;5;124m'\u001b[39m) \u001b[38;5;28;01mas\u001b[39;00m file:\n\u001b[1;32m      4\u001b[0m     data \u001b[38;5;241m=\u001b[39m json\u001b[38;5;241m.\u001b[39mload(file)\n\u001b[1;32m      6\u001b[0m \u001b[38;5;66;03m# Print JSON content\u001b[39;00m\n",
      "File \u001b[0;32m~/anaconda3/lib/python3.11/site-packages/IPython/core/interactiveshell.py:286\u001b[0m, in \u001b[0;36m_modified_open\u001b[0;34m(file, *args, **kwargs)\u001b[0m\n\u001b[1;32m    279\u001b[0m \u001b[38;5;28;01mif\u001b[39;00m file \u001b[38;5;129;01min\u001b[39;00m {\u001b[38;5;241m0\u001b[39m, \u001b[38;5;241m1\u001b[39m, \u001b[38;5;241m2\u001b[39m}:\n\u001b[1;32m    280\u001b[0m     \u001b[38;5;28;01mraise\u001b[39;00m \u001b[38;5;167;01mValueError\u001b[39;00m(\n\u001b[1;32m    281\u001b[0m         \u001b[38;5;124mf\u001b[39m\u001b[38;5;124m\"\u001b[39m\u001b[38;5;124mIPython won\u001b[39m\u001b[38;5;124m'\u001b[39m\u001b[38;5;124mt let you open fd=\u001b[39m\u001b[38;5;132;01m{\u001b[39;00mfile\u001b[38;5;132;01m}\u001b[39;00m\u001b[38;5;124m by default \u001b[39m\u001b[38;5;124m\"\u001b[39m\n\u001b[1;32m    282\u001b[0m         \u001b[38;5;124m\"\u001b[39m\u001b[38;5;124mas it is likely to crash IPython. If you know what you are doing, \u001b[39m\u001b[38;5;124m\"\u001b[39m\n\u001b[1;32m    283\u001b[0m         \u001b[38;5;124m\"\u001b[39m\u001b[38;5;124myou can use builtins\u001b[39m\u001b[38;5;124m'\u001b[39m\u001b[38;5;124m open.\u001b[39m\u001b[38;5;124m\"\u001b[39m\n\u001b[1;32m    284\u001b[0m     )\n\u001b[0;32m--> 286\u001b[0m \u001b[38;5;28;01mreturn\u001b[39;00m io_open(file, \u001b[38;5;241m*\u001b[39margs, \u001b[38;5;241m*\u001b[39m\u001b[38;5;241m*\u001b[39mkwargs)\n",
      "\u001b[0;31mFileNotFoundError\u001b[0m: [Errno 2] No such file or directory: 'duchenne muscular dystrophy.json'"
     ]
    }
   ],
   "source": []
  },
  {
   "cell_type": "markdown",
   "metadata": {},
   "source": [
    "## Cleaning the Pubmed Data\n",
    "\n",
    "cleaned [\"copyrights\", \"doi\", \"authors\"]"
   ]
  },
  {
   "cell_type": "code",
   "execution_count": null,
   "metadata": {},
   "outputs": [
    {
     "name": "stdout",
     "output_type": "stream",
     "text": [
      "Processed: Pubmed_Pancreatic_Cancer.csv\n",
      "Processed: Pubmed_Duchenne_Muscular_Dystrophy.csv\n",
      "Processed: Pubmed_Chagas_Disease.csv\n",
      "Processed: all_disease_procesed.csv\n",
      "Processed: Pubmed_Endometriosis.csv\n",
      "Processed: Pubmed_Drug_Resistant_Tuberculosis.csv\n",
      "All CSV files have been updated.\n"
     ]
    }
   ],
   "source": []
  },
  {
   "cell_type": "code",
   "execution_count": null,
   "metadata": {},
   "outputs": [],
   "source": []
  }
 ],
 "metadata": {
  "kernelspec": {
   "display_name": "base",
   "language": "python",
   "name": "python3"
  },
  "language_info": {
   "codemirror_mode": {
    "name": "ipython",
    "version": 3
   },
   "file_extension": ".py",
   "mimetype": "text/x-python",
   "name": "python",
   "nbconvert_exporter": "python",
   "pygments_lexer": "ipython3",
   "version": "3.11.5"
  }
 },
 "nbformat": 4,
 "nbformat_minor": 2
}
