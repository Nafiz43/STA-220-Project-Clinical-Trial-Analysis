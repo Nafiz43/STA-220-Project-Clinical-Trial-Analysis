{
 "cells": [
  {
   "cell_type": "code",
   "execution_count": 37,
   "metadata": {},
   "outputs": [
    {
     "name": "stdout",
     "output_type": "stream",
     "text": [
      "Fetching data from: https://clinicaltrials.gov/api/v2/studies?query.titles=duchenne muscular dystrophy&pageSize=100\n",
      "1\n",
      "Fetching data from: https://clinicaltrials.gov/api/v2/studies?query.titles=duchenne muscular dystrophy&pageSize=100&pageToken=NF0g5JqBl_kgwA\n",
      "2\n",
      "Fetching data from: https://clinicaltrials.gov/api/v2/studies?query.titles=duchenne muscular dystrophy&pageSize=100&pageToken=NF0g5JKOlfgoyQQ\n",
      "3\n",
      "Fetching data from: https://clinicaltrials.gov/api/v2/studies?query.titles=duchenne muscular dystrophy&pageSize=100&pageToken=NF0g5JGOlPYvwgI\n"
     ]
    }
   ],
   "source": [
    "import requests\n",
    "import pandas as pd\n",
    "import json\n",
    "import time\n",
    "\n",
    "diseases = [\n",
    "    \"pancreatic cancer\",\n",
    "    \"chagas disease\",\n",
    "    \"endometriosis\",\n",
    "    \"drug resistant tuberculosis\",\n",
    "    \"duchenne muscular dystrophy\"\n",
    "]\n",
    "\n",
    "\n",
    "disease_to_consider = diseases[4]\n",
    "\n",
    "# Initial URL for the first API call\n",
    "base_url = \"https://clinicaltrials.gov/api/v2/studies\"\n",
    "params = {\n",
    "    \"query.titles\": disease_to_consider,\n",
    "    \"pageSize\": 100\n",
    "}\n",
    "\n",
    "# Initialize an empty list to store the data\n",
    "data_list = []\n",
    "all_data = []\n",
    "\n",
    "\n",
    "# Loop until there is no nextPageToken\n",
    "x=1\n",
    "while True:\n",
    "    x = x+1\n",
    "    # Print the current URL (for debugging purposes)\n",
    "    print(\"Fetching data from:\", base_url + '?' + '&'.join([f\"{k}={v}\" for k, v in params.items()]))\n",
    "\n",
    "    # Send a GET request to the API\n",
    "    response = requests.get(base_url, params=params)\n",
    "\n",
    "\n",
    "    # Check if the request was successful\n",
    "    if response.status_code == 200:\n",
    "        data = response.json()  # Parse JSON response\n",
    "        studies = data.get('studies', [])  # Extract the list of studies\n",
    "        all_data.append(studies)\n",
    "        # print(data)        \n",
    "\n",
    "        # Check for nextPageToken and update the params or break the loop\n",
    "        nextPageToken = data.get('nextPageToken')\n",
    "        if nextPageToken:\n",
    "            params['pageToken'] = nextPageToken  # Set the pageToken for the next request\n",
    "        else:\n",
    "            break  # Exit the loop if no nextPageToken is present\n",
    "    else:\n",
    "        print(\"Failed to fetch data. Status code:\", response.status_code)\n",
    "        break\n",
    "    print(len(all_data))\n",
    "\n",
    "    time.sleep(3)\n",
    "\n",
    "with open(\"data/\"+disease_to_consider+\".json\", \"w\") as json_file:\n",
    "    json.dump(all_data, json_file, indent=4)"
   ]
  }
 ],
 "metadata": {
  "kernelspec": {
   "display_name": "base",
   "language": "python",
   "name": "python3"
  },
  "language_info": {
   "codemirror_mode": {
    "name": "ipython",
    "version": 3
   },
   "file_extension": ".py",
   "mimetype": "text/x-python",
   "name": "python",
   "nbconvert_exporter": "python",
   "pygments_lexer": "ipython3",
   "version": "3.12.8"
  }
 },
 "nbformat": 4,
 "nbformat_minor": 2
}
