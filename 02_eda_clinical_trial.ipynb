{
 "cells": [
  {
   "cell_type": "code",
   "execution_count": 32,
   "metadata": {},
   "outputs": [
    {
     "name": "stdout",
     "output_type": "stream",
     "text": [
      "                        Disease           Overall Status  count\n",
      "0                chagas_disease    ACTIVE_NOT_RECRUITING      2\n",
      "1                chagas_disease                COMPLETED     33\n",
      "2                chagas_disease       NOT_YET_RECRUITING      2\n",
      "3                chagas_disease               RECRUITING      3\n",
      "4                chagas_disease               TERMINATED      2\n",
      "5                chagas_disease                  UNKNOWN     13\n",
      "6   drug_resistant_tuberculosis    ACTIVE_NOT_RECRUITING      4\n",
      "7   drug_resistant_tuberculosis   APPROVED_FOR_MARKETING      1\n",
      "8   drug_resistant_tuberculosis                COMPLETED     40\n",
      "9   drug_resistant_tuberculosis       NOT_YET_RECRUITING      4\n",
      "10  drug_resistant_tuberculosis               RECRUITING      5\n",
      "11  drug_resistant_tuberculosis                  UNKNOWN      5\n",
      "12  drug_resistant_tuberculosis                WITHDRAWN      1\n",
      "13  duchenne_muscular_dystrophy    ACTIVE_NOT_RECRUITING     32\n",
      "14  duchenne_muscular_dystrophy   APPROVED_FOR_MARKETING      3\n",
      "15  duchenne_muscular_dystrophy                AVAILABLE      1\n",
      "16  duchenne_muscular_dystrophy                COMPLETED    175\n",
      "17  duchenne_muscular_dystrophy  ENROLLING_BY_INVITATION      6\n",
      "18  duchenne_muscular_dystrophy       NOT_YET_RECRUITING     12\n",
      "19  duchenne_muscular_dystrophy      NO_LONGER_AVAILABLE      2\n",
      "20  duchenne_muscular_dystrophy               RECRUITING     49\n",
      "21  duchenne_muscular_dystrophy               TERMINATED     41\n",
      "22  duchenne_muscular_dystrophy                  UNKNOWN     32\n",
      "23  duchenne_muscular_dystrophy                WITHDRAWN      8\n",
      "24                endometriosis    ACTIVE_NOT_RECRUITING     25\n",
      "25                endometriosis                COMPLETED    266\n",
      "26                endometriosis  ENROLLING_BY_INVITATION      9\n",
      "27                endometriosis       NOT_YET_RECRUITING     32\n",
      "28                endometriosis               RECRUITING    110\n",
      "29                endometriosis               TERMINATED     28\n",
      "30                endometriosis                  UNKNOWN    104\n",
      "31                endometriosis                WITHDRAWN     14\n",
      "32            pancreatic_cancer    ACTIVE_NOT_RECRUITING    163\n",
      "33            pancreatic_cancer   APPROVED_FOR_MARKETING      1\n",
      "34            pancreatic_cancer                AVAILABLE      2\n",
      "35            pancreatic_cancer                COMPLETED   1008\n",
      "36            pancreatic_cancer  ENROLLING_BY_INVITATION     13\n",
      "37            pancreatic_cancer       NOT_YET_RECRUITING    141\n",
      "38            pancreatic_cancer      NO_LONGER_AVAILABLE      5\n",
      "39            pancreatic_cancer               RECRUITING    486\n",
      "40            pancreatic_cancer                SUSPENDED     10\n",
      "41            pancreatic_cancer               TERMINATED    264\n",
      "42            pancreatic_cancer                  UNKNOWN    368\n",
      "43            pancreatic_cancer                WITHDRAWN    111\n",
      "TRIAL STATUS PRINTED\n"
     ]
    }
   ],
   "source": [
    "import pandas as pd\n",
    "\n",
    "# Load data\n",
    "data = pd.read_csv('data/all_disease_procesed.csv')\n",
    "df = pd.DataFrame(data)\n",
    "\n",
    "# Group by 'disease' column and count unique values in 'Overall Status'\n",
    "# unique_counts = df.groupby('Disease')['Overall Status'].value_counts()\n",
    "\n",
    "# finding trial status\n",
    "trial_status = df.groupby(['Disease', 'Overall Status']).size().reset_index(name='count')\n",
    "\n",
    "\n",
    "# Print result\n",
    "print(trial_status)\n",
    "print(\"TRIAL STATUS PRINTED\")\n"
   ]
  },
  {
   "cell_type": "code",
   "execution_count": 33,
   "metadata": {},
   "outputs": [
    {
     "name": "stdout",
     "output_type": "stream",
     "text": [
      "                        Disease Sponsor Type  count\n",
      "0                chagas_disease     INDUSTRY     13\n",
      "1                chagas_disease          NIH      1\n",
      "2                chagas_disease        OTHER     38\n",
      "3                chagas_disease    OTHER_GOV      3\n",
      "4   drug_resistant_tuberculosis          FED      3\n",
      "5   drug_resistant_tuberculosis     INDUSTRY     15\n",
      "6   drug_resistant_tuberculosis      NETWORK      1\n",
      "7   drug_resistant_tuberculosis          NIH      7\n",
      "8   drug_resistant_tuberculosis        OTHER     31\n",
      "9   drug_resistant_tuberculosis    OTHER_GOV      3\n",
      "10  duchenne_muscular_dystrophy     INDUSTRY    163\n",
      "11  duchenne_muscular_dystrophy      NETWORK     10\n",
      "12  duchenne_muscular_dystrophy          NIH      6\n",
      "13  duchenne_muscular_dystrophy        OTHER    174\n",
      "14  duchenne_muscular_dystrophy    OTHER_GOV      8\n",
      "15                endometriosis     INDUSTRY    128\n",
      "16                endometriosis      NETWORK      4\n",
      "17                endometriosis          NIH      9\n",
      "18                endometriosis        OTHER    427\n",
      "19                endometriosis    OTHER_GOV     20\n",
      "20            pancreatic_cancer        INDIV      1\n",
      "21            pancreatic_cancer     INDUSTRY    480\n",
      "22            pancreatic_cancer      NETWORK     39\n",
      "23            pancreatic_cancer          NIH     85\n",
      "24            pancreatic_cancer        OTHER   1927\n",
      "25            pancreatic_cancer    OTHER_GOV     39\n",
      "26            pancreatic_cancer      UNKNOWN      1\n",
      "TRIAL SPONSOR PRINTED\n"
     ]
    }
   ],
   "source": [
    "# TRIAL SPONSOR PRINTED\n",
    "\n",
    "trial_sponsor = df.groupby(['Disease', 'Sponsor Type']).size().reset_index(name='count')\n",
    "print(trial_sponsor)\n",
    "print(\"TRIAL SPONSOR PRINTED\")\n"
   ]
  },
  {
   "cell_type": "code",
   "execution_count": 34,
   "metadata": {},
   "outputs": [
    {
     "name": "stdout",
     "output_type": "stream",
     "text": [
      "                        Disease       Study Type  count\n",
      "0                chagas_disease   INTERVENTIONAL     37\n",
      "1                chagas_disease    OBSERVATIONAL     18\n",
      "2   drug_resistant_tuberculosis  EXPANDED_ACCESS      1\n",
      "3   drug_resistant_tuberculosis   INTERVENTIONAL     39\n",
      "4   drug_resistant_tuberculosis    OBSERVATIONAL     20\n",
      "5   duchenne_muscular_dystrophy  EXPANDED_ACCESS      6\n",
      "6   duchenne_muscular_dystrophy   INTERVENTIONAL    265\n",
      "7   duchenne_muscular_dystrophy    OBSERVATIONAL     90\n",
      "8                 endometriosis   INTERVENTIONAL    358\n",
      "9                 endometriosis    OBSERVATIONAL    230\n",
      "10            pancreatic_cancer  EXPANDED_ACCESS      8\n",
      "11            pancreatic_cancer   INTERVENTIONAL   2111\n",
      "12            pancreatic_cancer    OBSERVATIONAL    453\n",
      "STUDY TYPE PRINTED\n"
     ]
    }
   ],
   "source": [
    "study_type = df.groupby(['Disease', 'Study Type']).size().reset_index(name='count')\n",
    "\n",
    "# Print result\n",
    "print(study_type)\n",
    "print(\"STUDY TYPE PRINTED\")"
   ]
  },
  {
   "cell_type": "code",
   "execution_count": 35,
   "metadata": {},
   "outputs": [
    {
     "name": "stdout",
     "output_type": "stream",
     "text": [
      "                        Disease         Phases  count\n",
      "0                chagas_disease  Not Available     18\n",
      "1                chagas_disease         PHASE1      5\n",
      "2                chagas_disease         PHASE2     12\n",
      "3                chagas_disease         PHASE3      9\n",
      "4                chagas_disease         PHASE4      4\n",
      "5   drug_resistant_tuberculosis  Not Available     21\n",
      "6   drug_resistant_tuberculosis         PHASE1      2\n",
      "7   drug_resistant_tuberculosis         PHASE2     18\n",
      "8   drug_resistant_tuberculosis         PHASE3     10\n",
      "9   drug_resistant_tuberculosis         PHASE4      3\n",
      "10  duchenne_muscular_dystrophy   EARLY_PHASE1      5\n",
      "11  duchenne_muscular_dystrophy  Not Available     96\n",
      "12  duchenne_muscular_dystrophy         PHASE1     34\n",
      "13  duchenne_muscular_dystrophy         PHASE2    116\n",
      "14  duchenne_muscular_dystrophy         PHASE3     50\n",
      "15  duchenne_muscular_dystrophy         PHASE4      7\n",
      "16                endometriosis   EARLY_PHASE1      8\n",
      "17                endometriosis  Not Available    230\n",
      "18                endometriosis         PHASE1      4\n",
      "19                endometriosis         PHASE2     84\n",
      "20                endometriosis         PHASE3     58\n",
      "21                endometriosis         PHASE4     35\n",
      "22            pancreatic_cancer   EARLY_PHASE1     57\n",
      "23            pancreatic_cancer  Not Available    461\n",
      "24            pancreatic_cancer         PHASE1    388\n",
      "25            pancreatic_cancer         PHASE2   1020\n",
      "26            pancreatic_cancer         PHASE3    191\n",
      "27            pancreatic_cancer         PHASE4     30\n",
      "STUDY Phases PRINTED\n"
     ]
    }
   ],
   "source": [
    "study_phases = df.groupby(['Disease', 'Phases']).size().reset_index(name='count')\n",
    "\n",
    "# Print result\n",
    "print(study_phases)\n",
    "print(\"STUDY Phases PRINTED\")"
   ]
  },
  {
   "cell_type": "code",
   "execution_count": 36,
   "metadata": {},
   "outputs": [
    {
     "name": "stdout",
     "output_type": "stream",
     "text": [
      "                Disease                                      Interventions  \\\n",
      "0        chagas_disease  40 mg Atorvastatin/day for 120 days P.O., Ator...   \n",
      "1        chagas_disease                                            Aspirin   \n",
      "2        chagas_disease                                       Benznidazole   \n",
      "3        chagas_disease  Benznidazole, E1224, E1224 Placebo, Benznidazo...   \n",
      "4        chagas_disease                           Benznidazole, Nifurtimox   \n",
      "...                 ...                                                ...   \n",
      "3132  pancreatic_cancer                   without APA program, APA program   \n",
      "3133  pancreatic_cancer       wound care management, wound care management   \n",
      "3134  pancreatic_cancer      wrist-worn accelerometer, Auto-questionnaires   \n",
      "3135  pancreatic_cancer                          zolbetuximab, mFOLFIRINOX   \n",
      "3136  pancreatic_cancer          zolbetuximab, nab-paclitaxel, gemcitabine   \n",
      "\n",
      "      count  \n",
      "0         1  \n",
      "1         1  \n",
      "2         6  \n",
      "3         1  \n",
      "4         1  \n",
      "...     ...  \n",
      "3132      1  \n",
      "3133      1  \n",
      "3134      1  \n",
      "3135      1  \n",
      "3136      1  \n",
      "\n",
      "[3137 rows x 3 columns]\n",
      "STUDY Phases PRINTED\n"
     ]
    }
   ],
   "source": [
    "study_phases = df.groupby(['Disease', 'Interventions']).size().reset_index(name='count')\n",
    "\n",
    "# Print result\n",
    "print(study_phases)\n",
    "print(\"STUDY Phases PRINTED\")"
   ]
  },
  {
   "cell_type": "code",
   "execution_count": 37,
   "metadata": {},
   "outputs": [
    {
     "name": "stdout",
     "output_type": "stream",
     "text": [
      "Index(['NCT ID', 'Acronym', 'Overall Status', 'Start Date', 'Conditions',\n",
      "       'Interventions', 'Locations', 'Primary Completion Date',\n",
      "       'Study First Post Date', 'Last Update Post Date', 'Study Type',\n",
      "       'Phases', 'Sponsor', 'Sponsor Type', 'Disease'],\n",
      "      dtype='object')\n"
     ]
    }
   ],
   "source": [
    "print(df.columns)"
   ]
  },
  {
   "cell_type": "code",
   "execution_count": 27,
   "metadata": {},
   "outputs": [
    {
     "name": "stdout",
     "output_type": "stream",
     "text": [
      "PHASE3\n"
     ]
    }
   ],
   "source": [
    "x = \"PHASE1, PHASE2, PHASE3\"\n",
    "last_item = x.split(\",\")[-1].strip()  # Splitting and stripping any spaces\n",
    "print(last_item)"
   ]
  },
  {
   "cell_type": "code",
   "execution_count": null,
   "metadata": {},
   "outputs": [],
   "source": []
  }
 ],
 "metadata": {
  "kernelspec": {
   "display_name": "base",
   "language": "python",
   "name": "python3"
  },
  "language_info": {
   "codemirror_mode": {
    "name": "ipython",
    "version": 3
   },
   "file_extension": ".py",
   "mimetype": "text/x-python",
   "name": "python",
   "nbconvert_exporter": "python",
   "pygments_lexer": "ipython3",
   "version": "3.12.8"
  }
 },
 "nbformat": 4,
 "nbformat_minor": 2
}
